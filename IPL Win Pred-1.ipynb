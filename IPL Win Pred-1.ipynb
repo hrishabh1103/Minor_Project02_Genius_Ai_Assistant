{
 "cells": [
  {
   "cell_type": "code",
   "execution_count": null,
   "id": "aabfc9b7",
   "metadata": {},
   "outputs": [
    {
     "ename": "",
     "evalue": "",
     "output_type": "error",
     "traceback": [
      "\u001b[1;31mRunning cells with 'venv (Python 3.13.1)' requires the ipykernel package.\n",
      "\u001b[1;31mInstall 'ipykernel' into the Python environment. \n",
      "\u001b[1;31mCommand: '/Users/hrishabh/Downloads/Genius_SE/venv/bin/python -m pip install ipykernel -U --force-reinstall'"
     ]
    }
   ],
   "source": [
    "import numpy as np\n",
    "import pandas as pd\n"
   ]
  },
  {
   "cell_type": "markdown",
   "id": "49ec280a-d297-4dc6-ac08-86b9e7812a71",
   "metadata": {},
   "source": [
    "Importing Data"
   ]
  },
  {
   "cell_type": "code",
   "execution_count": null,
   "id": "079ed1b4",
   "metadata": {},
   "outputs": [],
   "source": [
    "match = pd.read_csv('matches.csv')\n",
    "delivery = pd.read_csv('deliveries.csv')"
   ]
  },
  {
   "cell_type": "markdown",
   "id": "2b55a032-e8ef-4fa4-a039-e94491daa687",
   "metadata": {},
   "source": [
    "A Glance at match datset"
   ]
  },
  {
   "cell_type": "code",
   "execution_count": null,
   "id": "bfadbf7d",
   "metadata": {},
   "outputs": [],
   "source": [
    "match.head()"
   ]
  },
  {
   "cell_type": "code",
   "execution_count": null,
   "id": "9ab063ae-c47c-48d3-9074-18a1dc9ed33c",
   "metadata": {},
   "outputs": [],
   "source": [
    "match.describe(include='all')"
   ]
  },
  {
   "cell_type": "code",
   "execution_count": null,
   "id": "d4616531",
   "metadata": {},
   "outputs": [],
   "source": [
    "print(match.shape)\n",
    "match.tail()"
   ]
  },
  {
   "cell_type": "markdown",
   "id": "7672fbd1-1863-4f61-98dd-e124c7cd51d1",
   "metadata": {},
   "source": [
    "A Glance at delivery dataset"
   ]
  },
  {
   "cell_type": "code",
   "execution_count": null,
   "id": "47294751-a317-4427-8b22-766c477490ed",
   "metadata": {},
   "outputs": [],
   "source": [
    "delivery.head()"
   ]
  },
  {
   "cell_type": "code",
   "execution_count": null,
   "id": "c0cca793-6cd8-4685-ba61-eef33fa574a7",
   "metadata": {},
   "outputs": [],
   "source": [
    "delivery.describe()"
   ]
  },
  {
   "cell_type": "code",
   "execution_count": null,
   "id": "cdc02d59-8b50-4875-873c-f44d11178678",
   "metadata": {},
   "outputs": [],
   "source": [
    "delivery.shape"
   ]
  },
  {
   "cell_type": "markdown",
   "id": "ba3fb418-c891-40dd-8f0a-787d9a673844",
   "metadata": {},
   "source": [
    "Calculating total score after the completion of an innning"
   ]
  },
  {
   "cell_type": "code",
   "execution_count": null,
   "id": "be21b391",
   "metadata": {},
   "outputs": [],
   "source": [
    "total_score_df = delivery.groupby(['match_id','inning']).sum()['total_runs'].reset_index()\n",
    "\n",
    "total_score_df"
   ]
  },
  {
   "cell_type": "code",
   "execution_count": null,
   "id": "cbf8c553",
   "metadata": {},
   "outputs": [],
   "source": [
    "total_score_df = total_score_df[total_score_df['inning'] == 1]"
   ]
  },
  {
   "cell_type": "code",
   "execution_count": null,
   "id": "0e59930d",
   "metadata": {},
   "outputs": [],
   "source": [
    "total_score_df"
   ]
  },
  {
   "cell_type": "markdown",
   "id": "66cbecbc-9f9a-4f42-88e8-7559fb616a48",
   "metadata": {},
   "source": [
    "Combining the match dataframe to the total _score_df for the runs scored in the first inning"
   ]
  },
  {
   "cell_type": "code",
   "execution_count": null,
   "id": "78c81c64",
   "metadata": {},
   "outputs": [],
   "source": [
    "match_df = match.merge(total_score_df[['match_id','total_runs']],left_on='id',right_on='match_id')"
   ]
  },
  {
   "cell_type": "code",
   "execution_count": null,
   "id": "6dad8a91",
   "metadata": {},
   "outputs": [],
   "source": [
    "match_df.head()"
   ]
  },
  {
   "cell_type": "markdown",
   "id": "96d11eed-6efd-4cc7-a25d-39933ce44280",
   "metadata": {},
   "source": [
    "Data Preprocessing\n"
   ]
  },
  {
   "cell_type": "markdown",
   "id": "973338b7-3cdf-4201-ad82-1e54d8bd5164",
   "metadata": {},
   "source": [
    "Checking the teams that has played IPL and eliminating those who donot play anymore."
   ]
  },
  {
   "cell_type": "code",
   "execution_count": null,
   "id": "46d110b1",
   "metadata": {},
   "outputs": [],
   "source": [
    "match_df['team1'].unique()"
   ]
  },
  {
   "cell_type": "code",
   "execution_count": null,
   "id": "9f048dbf",
   "metadata": {},
   "outputs": [],
   "source": [
    "# Teams playing the present IPL season\n",
    "\n",
    "teams = [\n",
    "    'Sunrisers Hyderabad',\n",
    "    'Mumbai Indians',\n",
    "    'Royal Challengers Bengaluru',\n",
    "    'Kolkata Knight Riders',\n",
    "    'Punjab Kings',\n",
    "    'Chennai Super Kings',\n",
    "    'Rajasthan Royals',\n",
    "    'Delhi Capitals',\n",
    "    'Gujarat Titans',\n",
    "    'Lucknow Super Giants'\n",
    "]"
   ]
  },
  {
   "cell_type": "code",
   "execution_count": null,
   "id": "4ca212ee",
   "metadata": {},
   "outputs": [],
   "source": [
    "# Changing previous names of team with present names\n",
    "\n",
    "match_df['team1'] = match_df['team1'].str.replace('Delhi Daredevils','Delhi Capitals')\n",
    "match_df['team2'] = match_df['team2'].str.replace('Delhi Daredevils','Delhi Capitals')\n",
    "\n",
    "match_df['team1'] = match_df['team1'].str.replace('Deccan Chargers','Sunrisers Hyderabad')\n",
    "match_df['team2'] = match_df['team2'].str.replace('Deccan Chargers','Sunrisers Hyderabad')\n",
    "\n",
    "match_df['team1'] = match_df['team1'].str.replace('Royal Challengers Bangalore','Royal Challengers Bengaluru')\n",
    "match_df['team2'] = match_df['team2'].str.replace('Royal Challengers Bangalore','Royal Challengers Bengaluru')\n",
    "\n",
    "match_df['team1'] = match_df['team1'].str.replace('Kings XI Punjab','Punjab Kings')\n",
    "match_df['team2'] = match_df['team2'].str.replace('Kings XI Punjab','Punjab Kings')\n"
   ]
  },
  {
   "cell_type": "code",
   "execution_count": null,
   "id": "ec3d2992",
   "metadata": {},
   "outputs": [],
   "source": [
    "# This checks if the team listed in the team1, team2 columns are present in the list teams.\n",
    "\n",
    "match_df = match_df[match_df['team1'].isin(teams)]\n",
    "match_df = match_df[match_df['team2'].isin(teams)]"
   ]
  },
  {
   "cell_type": "code",
   "execution_count": null,
   "id": "456148f0",
   "metadata": {},
   "outputs": [],
   "source": [
    "match_df.shape"
   ]
  },
  {
   "cell_type": "code",
   "execution_count": null,
   "id": "bb7e68ce",
   "metadata": {},
   "outputs": [],
   "source": [
    "match_df = match_df[['match_id','city','winner','total_runs']]\n",
    "match_df"
   ]
  },
  {
   "cell_type": "code",
   "execution_count": null,
   "id": "cfa8b802",
   "metadata": {},
   "outputs": [],
   "source": [
    "# Merging match_df(with required/relevent features) with delivery_df using match_id as key \n",
    "\n",
    "delivery_df = match_df.merge(delivery,on='match_id')"
   ]
  },
  {
   "cell_type": "code",
   "execution_count": null,
   "id": "bb9e3301",
   "metadata": {
    "scrolled": true
   },
   "outputs": [],
   "source": [
    "delivery_df = delivery_df[delivery_df['inning'] == 2]\n",
    "delivery_df "
   ]
  },
  {
   "cell_type": "markdown",
   "id": "f6e1b7d2-fb8c-4347-8e25-9fae334260e6",
   "metadata": {},
   "source": [
    "Feature Engineering"
   ]
  },
  {
   "cell_type": "markdown",
   "id": "606dc1f1-be53-42ec-85de-3b908bf96b49",
   "metadata": {},
   "source": [
    "Creating features such as:\n",
    "1. current_score after every ball bowled.\n",
    "2. runs_left, balls_left and wickets_left after every ball while chasing.\n",
    "3. Current and required runrate."
   ]
  },
  {
   "cell_type": "code",
   "execution_count": null,
   "id": "d1a45471-8491-4dbe-9070-3160d63e2791",
   "metadata": {},
   "outputs": [],
   "source": [
    "# calculate a running total of total_runs for each ball (i.e., cumulative score up to that ball).\n",
    "\n",
    "delivery_df['current_score'] = delivery_df.groupby('match_id')['total_runs_y'].cumsum()"
   ]
  },
  {
   "cell_type": "code",
   "execution_count": null,
   "id": "a37ab264",
   "metadata": {},
   "outputs": [],
   "source": [
    "delivery_df['runs_left'] = (delivery_df['total_runs_x'] + 1) - delivery_df['current_score']"
   ]
  },
  {
   "cell_type": "code",
   "execution_count": null,
   "id": "91142ecc",
   "metadata": {
    "scrolled": true
   },
   "outputs": [],
   "source": [
    "delivery_df['balls_left'] = 120 - (delivery_df['over']*6 + delivery_df['ball'])"
   ]
  },
  {
   "cell_type": "code",
   "execution_count": null,
   "id": "5ee97c37",
   "metadata": {
    "scrolled": true
   },
   "outputs": [],
   "source": [
    "wickets = delivery_df['wickets_left'] = delivery_df.groupby('match_id')['is_wicket'].cumsum()\n",
    "\n",
    "delivery_df['wickets_left'] = 10 - wickets\n",
    "delivery_df.head(50)"
   ]
  },
  {
   "cell_type": "code",
   "execution_count": null,
   "id": "169a3e59-767f-4ecd-8ede-2abdfae01417",
   "metadata": {},
   "outputs": [],
   "source": [
    "# crr = runs/overs\n",
    "\n",
    "delivery_df['crr'] = (delivery_df['current_score']*6)/(120 - delivery_df['balls_left'])\n"
   ]
  },
  {
   "cell_type": "code",
   "execution_count": null,
   "id": "7d484dea",
   "metadata": {},
   "outputs": [],
   "source": [
    "# rrr = (runs required)/(overs left)\n",
    "\n",
    "delivery_df['rrr'] = (delivery_df['runs_left']*6)/delivery_df['balls_left']\n"
   ]
  },
  {
   "cell_type": "code",
   "execution_count": null,
   "id": "5976ebd2-cf5b-422d-b5fa-479251154cfe",
   "metadata": {
    "scrolled": true
   },
   "outputs": [],
   "source": [
    "delivery_df.tail(70)"
   ]
  },
  {
   "cell_type": "code",
   "execution_count": null,
   "id": "730c19d4",
   "metadata": {},
   "outputs": [],
   "source": [
    "def result(row):\n",
    "    return 1 if row['batting_team'] == row['winner'] else 0"
   ]
  },
  {
   "cell_type": "code",
   "execution_count": null,
   "id": "a49caf70",
   "metadata": {},
   "outputs": [],
   "source": [
    "delivery_df['result'] = delivery_df.apply(result,axis=1)\n",
    "delivery_df.head()"
   ]
  },
  {
   "cell_type": "markdown",
   "id": "374fe824-66df-4a67-94fc-220bb3fc78cb",
   "metadata": {},
   "source": [
    "Final dataset for model training"
   ]
  },
  {
   "cell_type": "code",
   "execution_count": null,
   "id": "2999909b",
   "metadata": {},
   "outputs": [],
   "source": [
    "final_df = delivery_df[['batting_team','bowling_team','city','runs_left','balls_left','wickets_left','total_runs_x','crr','rrr','result']]"
   ]
  },
  {
   "cell_type": "code",
   "execution_count": null,
   "id": "fb242ffd",
   "metadata": {
    "scrolled": true
   },
   "outputs": [],
   "source": [
    "# Shuffling the data\n",
    "\n",
    "final_df = final_df.sample(final_df.shape[0])"
   ]
  },
  {
   "cell_type": "code",
   "execution_count": null,
   "id": "3dc0b91d",
   "metadata": {},
   "outputs": [],
   "source": [
    "final_df.sample()"
   ]
  },
  {
   "cell_type": "code",
   "execution_count": null,
   "id": "dfec0834",
   "metadata": {},
   "outputs": [],
   "source": [
    "final_df.dropna(inplace=True)"
   ]
  },
  {
   "cell_type": "code",
   "execution_count": null,
   "id": "3bb16858-b51c-4fdc-a029-4dfd5c49a0c9",
   "metadata": {},
   "outputs": [],
   "source": [
    "final_df.isnull().sum()"
   ]
  },
  {
   "cell_type": "code",
   "execution_count": null,
   "id": "bafcba9c",
   "metadata": {},
   "outputs": [],
   "source": [
    "final_df = final_df[final_df['balls_left'] != 0]"
   ]
  },
  {
   "cell_type": "markdown",
   "id": "586ef86f-0467-4f14-94ec-23753a9815f6",
   "metadata": {},
   "source": [
    "Test-Train split for model training"
   ]
  },
  {
   "cell_type": "code",
   "execution_count": null,
   "id": "54edf23b",
   "metadata": {},
   "outputs": [],
   "source": [
    "X = final_df.iloc[:,:-1]\n",
    "y = final_df.iloc[:,-1]\n",
    "from sklearn.model_selection import train_test_split\n",
    "X_train,X_test,y_train,y_test = train_test_split(X,y,test_size=0.2,random_state=1)"
   ]
  },
  {
   "cell_type": "code",
   "execution_count": null,
   "id": "3aa219a5",
   "metadata": {
    "scrolled": true
   },
   "outputs": [],
   "source": [
    "X_train"
   ]
  },
  {
   "cell_type": "markdown",
   "id": "b8c1e025-bcde-43cf-8a67-5b7145a313d2",
   "metadata": {},
   "source": [
    "Appling one hot encoder for categorical variables"
   ]
  },
  {
   "cell_type": "code",
   "execution_count": null,
   "id": "45c6fffa",
   "metadata": {},
   "outputs": [],
   "source": [
    "from sklearn.compose import ColumnTransformer\n",
    "from sklearn.preprocessing import OneHotEncoder\n",
    "\n",
    "trf = ColumnTransformer([\n",
    "    ('trf',OneHotEncoder(sparse_output=False,drop='first'),['batting_team','bowling_team','city'])\n",
    "]\n",
    ",remainder='passthrough')"
   ]
  },
  {
   "cell_type": "markdown",
   "id": "e75f07cb-0e87-4c69-bd26-0672a3fd90bc",
   "metadata": {},
   "source": [
    "Model: Logistic Regression"
   ]
  },
  {
   "cell_type": "code",
   "execution_count": null,
   "id": "9be108ac",
   "metadata": {},
   "outputs": [],
   "source": [
    "from sklearn.linear_model import LogisticRegression\n",
    "from sklearn.ensemble import RandomForestClassifier\n",
    "from sklearn.pipeline import Pipeline"
   ]
  },
  {
   "cell_type": "code",
   "execution_count": null,
   "id": "92dfbfcb",
   "metadata": {},
   "outputs": [],
   "source": [
    "pipe = Pipeline(steps=[\n",
    "    ('step1',trf),\n",
    "    ('step2',LogisticRegression(solver='liblinear'))\n",
    "])"
   ]
  },
  {
   "cell_type": "code",
   "execution_count": null,
   "id": "7b2e58e9-a295-459a-a13b-495829c382e9",
   "metadata": {},
   "outputs": [],
   "source": [
    "pipe.fit(X_train,y_train)"
   ]
  },
  {
   "cell_type": "code",
   "execution_count": null,
   "id": "cf3fde3b",
   "metadata": {},
   "outputs": [],
   "source": [
    "y_pred = pipe.predict(X_test)"
   ]
  },
  {
   "cell_type": "code",
   "execution_count": null,
   "id": "b43ea121",
   "metadata": {},
   "outputs": [],
   "source": [
    "from sklearn.metrics import accuracy_score\n",
    "accuracy_score(y_test,y_pred)"
   ]
  },
  {
   "cell_type": "code",
   "execution_count": null,
   "id": "01205f46",
   "metadata": {},
   "outputs": [],
   "source": [
    "# probability at a particular ball\n",
    "pipe.predict_proba(X_test)[1]"
   ]
  },
  {
   "cell_type": "code",
   "execution_count": null,
   "id": "cf6fbd69",
   "metadata": {},
   "outputs": [],
   "source": [
    "def match_summary(row):\n",
    "    print(\"Batting Team-\" + row['batting_team'] + \" | Bowling Team-\" + row['bowling_team'] + \" | Target- \" + str(row['total_runs_x']))\n",
    "    "
   ]
  },
  {
   "cell_type": "code",
   "execution_count": null,
   "id": "99e08b54",
   "metadata": {},
   "outputs": [],
   "source": [
    "import pickle\n",
    "pickle.dump(pipe,open('pipe3.pkl','wb'))\n"
   ]
  }
 ],
 "metadata": {
  "kernelspec": {
   "display_name": "venv",
   "language": "python",
   "name": "python3"
  },
  "language_info": {
   "codemirror_mode": {
    "name": "ipython",
    "version": 3
   },
   "file_extension": ".py",
   "mimetype": "text/x-python",
   "name": "python",
   "nbconvert_exporter": "python",
   "pygments_lexer": "ipython3",
   "version": "3.13.1"
  }
 },
 "nbformat": 4,
 "nbformat_minor": 5
}
